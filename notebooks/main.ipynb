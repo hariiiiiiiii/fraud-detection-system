{
 "cells": [
  {
   "cell_type": "code",
   "execution_count": 1,
   "id": "cd34a2dc",
   "metadata": {},
   "outputs": [],
   "source": [
    "import xgboost as xgb\n",
    "from sklearn.model_selection import train_test_split, cross_val_score, StratifiedKFold\n",
    "from sklearn.metrics import roc_auc_score, classification_report,auc\n",
    "import pandas as pd\n",
    "from sklearn.preprocessing import LabelEncoder\n",
    "from sklearn.metrics import roc_auc_score, classification_report,make_scorer,precision_recall_curve\n",
    "import numpy as np"
   ]
  },
  {
   "cell_type": "code",
   "execution_count": 2,
   "id": "5ae690f5",
   "metadata": {},
   "outputs": [],
   "source": [
    "data = pd.read_csv('/Users/jagan/Documents/coding/projects/fraud-detection-system/data/processed/merged_ieee_cis.csv')"
   ]
  },
  {
   "cell_type": "code",
   "execution_count": 3,
   "id": "626b91bd",
   "metadata": {},
   "outputs": [
    {
     "data": {
      "text/plain": [
       "Index(['ProductCD', 'card4', 'card6', 'P_emaildomain', 'R_emaildomain', 'M1',\n",
       "       'M2', 'M3', 'M4', 'M5', 'M6', 'M7', 'M8', 'M9', 'id_12', 'id_15',\n",
       "       'id_16', 'id_23', 'id_27', 'id_28', 'id_29', 'id_30', 'id_31', 'id_33',\n",
       "       'id_34', 'id_35', 'id_36', 'id_37', 'id_38', 'DeviceType',\n",
       "       'DeviceInfo'],\n",
       "      dtype='object')"
      ]
     },
     "execution_count": 3,
     "metadata": {},
     "output_type": "execute_result"
    }
   ],
   "source": [
    "cat_cols = data.select_dtypes(include='object').columns\n",
    "cat_cols"
   ]
  },
  {
   "cell_type": "code",
   "execution_count": 4,
   "id": "e75de94a",
   "metadata": {},
   "outputs": [],
   "source": [
    "for col in cat_cols:\n",
    "    le = LabelEncoder()\n",
    "    data[col] = le.fit_transform(data[col].astype(str))"
   ]
  },
  {
   "cell_type": "code",
   "execution_count": 5,
   "id": "ac672f3c",
   "metadata": {},
   "outputs": [
    {
     "name": "stdout",
     "output_type": "stream",
     "text": [
      "ProductCD        int64\n",
      "card4            int64\n",
      "card6            int64\n",
      "P_emaildomain    int64\n",
      "R_emaildomain    int64\n",
      "M1               int64\n",
      "M2               int64\n",
      "M3               int64\n",
      "M4               int64\n",
      "M5               int64\n",
      "M6               int64\n",
      "M7               int64\n",
      "M8               int64\n",
      "M9               int64\n",
      "id_12            int64\n",
      "id_15            int64\n",
      "id_16            int64\n",
      "id_23            int64\n",
      "id_27            int64\n",
      "id_28            int64\n",
      "id_29            int64\n",
      "id_30            int64\n",
      "id_31            int64\n",
      "id_33            int64\n",
      "id_34            int64\n",
      "id_35            int64\n",
      "id_36            int64\n",
      "id_37            int64\n",
      "id_38            int64\n",
      "DeviceType       int64\n",
      "DeviceInfo       int64\n",
      "dtype: object\n"
     ]
    }
   ],
   "source": [
    "print(data.dtypes[cat_cols])"
   ]
  },
  {
   "cell_type": "code",
   "execution_count": 6,
   "id": "89587ffb",
   "metadata": {},
   "outputs": [
    {
     "data": {
      "text/plain": [
       "float64    399\n",
       "int64       35\n",
       "Name: count, dtype: int64"
      ]
     },
     "execution_count": 6,
     "metadata": {},
     "output_type": "execute_result"
    }
   ],
   "source": [
    "data.dtypes.value_counts().head(434)"
   ]
  },
  {
   "cell_type": "code",
   "execution_count": 7,
   "id": "ecb43512",
   "metadata": {},
   "outputs": [
    {
     "data": {
      "text/plain": [
       "Index(['TransactionID', 'isFraud', 'TransactionDT', 'TransactionAmt',\n",
       "       'ProductCD', 'card1', 'card2', 'card3', 'card4', 'card5',\n",
       "       ...\n",
       "       'id_31', 'id_32', 'id_33', 'id_34', 'id_35', 'id_36', 'id_37', 'id_38',\n",
       "       'DeviceType', 'DeviceInfo'],\n",
       "      dtype='object', length=434)"
      ]
     },
     "execution_count": 7,
     "metadata": {},
     "output_type": "execute_result"
    }
   ],
   "source": [
    "data.columns"
   ]
  },
  {
   "cell_type": "code",
   "execution_count": 8,
   "id": "1babec0b",
   "metadata": {},
   "outputs": [
    {
     "name": "stdout",
     "output_type": "stream",
     "text": [
      "Categorical columns to encode: []\n",
      "Series([], dtype: object)\n"
     ]
    }
   ],
   "source": [
    "\n",
    "cat_cols = data.select_dtypes(include='object').columns.tolist()\n",
    "print(f\"Categorical columns to encode: {cat_cols}\")\n",
    "\n",
    "\n",
    "for col in cat_cols:\n",
    "    le = LabelEncoder()\n",
    "    data[col] = le.fit_transform(data[col].astype(str))\n",
    "\n",
    "print(data[cat_cols].dtypes)"
   ]
  },
  {
   "cell_type": "code",
   "execution_count": 9,
   "id": "5bbb0c3b",
   "metadata": {},
   "outputs": [],
   "source": [
    "feature_cols = [col for col in data.columns if col not in ['isFraud']]\n",
    "X = data[feature_cols]\n",
    "y = data['isFraud']"
   ]
  },
  {
   "cell_type": "code",
   "execution_count": 10,
   "id": "9562a575",
   "metadata": {},
   "outputs": [],
   "source": [
    "X[\"TransactionAmt_log\"] = np.log1p(X[\"TransactionAmt\"])"
   ]
  },
  {
   "cell_type": "code",
   "execution_count": 11,
   "id": "39c32d3f",
   "metadata": {},
   "outputs": [],
   "source": [
    "X[\"DT_M\"] = X[\"TransactionDT\"] / (60 * 60 * 24 * 30)\n",
    "X[\"DT_W\"] = X[\"TransactionDT\"] / (60 * 60 * 24 * 7)\n",
    "X[\"DT_D\"] = X[\"TransactionDT\"] / (60 * 60 * 24)\n",
    "X[\"DT_hour\"] = (X[\"TransactionDT\"] / 3600) % 24"
   ]
  },
  {
   "cell_type": "code",
   "execution_count": 12,
   "id": "e6e2c7d2",
   "metadata": {},
   "outputs": [],
   "source": [
    "for col in [\"card1\", \"card2\", \"addr1\", \"DeviceInfo\", \"id_30\", \"id_31\"]:\n",
    "    if col in X.columns:\n",
    "        freq = X[col].value_counts(dropna=False)\n",
    "        X[col + \"_freq\"] = X[col].map(freq)"
   ]
  },
  {
   "cell_type": "code",
   "execution_count": 13,
   "id": "f7555186",
   "metadata": {},
   "outputs": [],
   "source": [
    "X[\"TransactionAmt_bin\"] = pd.qcut(X[\"TransactionAmt\"], 10, duplicates=\"drop\").cat.codes"
   ]
  },
  {
   "cell_type": "code",
   "execution_count": 14,
   "id": "37b90668",
   "metadata": {},
   "outputs": [],
   "source": [
    "X[\"card1_amt_mean\"] = X.groupby(\"card1\")[\"TransactionAmt\"].transform(\"mean\")\n",
    "X[\"card1_amt_std\"] = X.groupby(\"card1\")[\"TransactionAmt\"].transform(\"std\")\n",
    "X[\"card1_trans_count\"] = X.groupby(\"card1\")[\"TransactionID\"].transform(\"count\")"
   ]
  },
  {
   "cell_type": "code",
   "execution_count": 15,
   "id": "f7b8c085",
   "metadata": {},
   "outputs": [],
   "source": [
    "X = X.select_dtypes(include=[np.number]).fillna(-999)"
   ]
  },
  {
   "cell_type": "code",
   "execution_count": 16,
   "id": "45972cf5",
   "metadata": {},
   "outputs": [
    {
     "name": "stdout",
     "output_type": "stream",
     "text": [
      "XGBoost version: 3.0.4\n"
     ]
    }
   ],
   "source": [
    "n_splits = 5\n",
    "skf = StratifiedKFold(n_splits=n_splits, shuffle=True, random_state=42)\n",
    "\n",
    "fold = 1\n",
    "auc_scores = []\n",
    "reports = []\n",
    "\n",
    "\n",
    "print(f\"XGBoost version: {xgb.__version__}\")"
   ]
  },
  {
   "cell_type": "code",
   "execution_count": null,
   "id": "a0f245a5",
   "metadata": {},
   "outputs": [
    {
     "name": "stdout",
     "output_type": "stream",
     "text": [
      "\n",
      " Fold 1\n",
      "[0]\tvalidation_0-aucpr:0.35022\n",
      "[200]\tvalidation_0-aucpr:0.62574\n",
      "[400]\tvalidation_0-aucpr:0.69178\n",
      "[600]\tvalidation_0-aucpr:0.73066\n",
      "[800]\tvalidation_0-aucpr:0.75762\n",
      "[1000]\tvalidation_0-aucpr:0.77701\n",
      "[1199]\tvalidation_0-aucpr:0.79111\n",
      "Best Threshold = 0.790, F1 = 0.743\n",
      "Fold 1 AUC: 0.9645\n",
      "              precision    recall  f1-score   support\n",
      "\n",
      "           0       0.99      0.99      0.99    113976\n",
      "           1       0.82      0.68      0.74      4132\n",
      "\n",
      "    accuracy                           0.98    118108\n",
      "   macro avg       0.90      0.84      0.87    118108\n",
      "weighted avg       0.98      0.98      0.98    118108\n",
      "\n",
      "\n",
      " Fold 2\n",
      "[0]\tvalidation_0-aucpr:0.39374\n",
      "[200]\tvalidation_0-aucpr:0.63309\n",
      "[400]\tvalidation_0-aucpr:0.69609\n",
      "[600]\tvalidation_0-aucpr:0.73725\n",
      "[800]\tvalidation_0-aucpr:0.76620\n",
      "[1000]\tvalidation_0-aucpr:0.78666\n",
      "[1199]\tvalidation_0-aucpr:0.80275\n",
      "Best Threshold = 0.784, F1 = 0.750\n",
      "Fold 2 AUC: 0.9668\n",
      "              precision    recall  f1-score   support\n",
      "\n",
      "           0       0.99      0.99      0.99    113976\n",
      "           1       0.82      0.69      0.75      4132\n",
      "\n",
      "    accuracy                           0.98    118108\n",
      "   macro avg       0.90      0.84      0.87    118108\n",
      "weighted avg       0.98      0.98      0.98    118108\n",
      "\n",
      "\n",
      " Fold 3\n",
      "[0]\tvalidation_0-aucpr:0.38525\n",
      "[200]\tvalidation_0-aucpr:0.63072\n",
      "[400]\tvalidation_0-aucpr:0.69387\n",
      "[600]\tvalidation_0-aucpr:0.73005\n",
      "[800]\tvalidation_0-aucpr:0.75645\n",
      "[1000]\tvalidation_0-aucpr:0.77669\n",
      "[1199]\tvalidation_0-aucpr:0.79298\n",
      "Best Threshold = 0.795, F1 = 0.745\n",
      "Fold 3 AUC: 0.9649\n",
      "              precision    recall  f1-score   support\n",
      "\n",
      "           0       0.99      0.99      0.99    113975\n",
      "           1       0.81      0.69      0.75      4133\n",
      "\n",
      "    accuracy                           0.98    118108\n",
      "   macro avg       0.90      0.84      0.87    118108\n",
      "weighted avg       0.98      0.98      0.98    118108\n",
      "\n",
      "\n",
      " Fold 4\n",
      "[0]\tvalidation_0-aucpr:0.37274\n",
      "[200]\tvalidation_0-aucpr:0.62100\n",
      "[400]\tvalidation_0-aucpr:0.68135\n",
      "[600]\tvalidation_0-aucpr:0.72177\n",
      "[800]\tvalidation_0-aucpr:0.74898\n",
      "[1000]\tvalidation_0-aucpr:0.77240\n",
      "[1199]\tvalidation_0-aucpr:0.78904\n",
      "Best Threshold = 0.763, F1 = 0.730\n",
      "Fold 4 AUC: 0.9662\n",
      "              precision    recall  f1-score   support\n",
      "\n",
      "           0       0.99      0.99      0.99    113975\n",
      "           1       0.77      0.70      0.73      4133\n",
      "\n",
      "    accuracy                           0.98    118108\n",
      "   macro avg       0.88      0.84      0.86    118108\n",
      "weighted avg       0.98      0.98      0.98    118108\n",
      "\n",
      "\n",
      " Fold 5\n",
      "[0]\tvalidation_0-aucpr:0.38179\n",
      "[200]\tvalidation_0-aucpr:0.61579\n",
      "[400]\tvalidation_0-aucpr:0.67972\n",
      "[600]\tvalidation_0-aucpr:0.71868\n",
      "[800]\tvalidation_0-aucpr:0.74575\n",
      "[1000]\tvalidation_0-aucpr:0.76774\n",
      "[1199]\tvalidation_0-aucpr:0.78462\n",
      "Best Threshold = 0.792, F1 = 0.740\n",
      "Fold 5 AUC: 0.9666\n",
      "              precision    recall  f1-score   support\n",
      "\n",
      "           0       0.99      0.99      0.99    113975\n",
      "           1       0.82      0.67      0.74      4133\n",
      "\n",
      "    accuracy                           0.98    118108\n",
      "   macro avg       0.91      0.83      0.87    118108\n",
      "weighted avg       0.98      0.98      0.98    118108\n",
      "\n"
     ]
    }
   ],
   "source": [
    "for train_idx, val_idx in skf.split(X, y):\n",
    "    print(f\"\\n Fold {fold}\")\n",
    "\n",
    "    #Split data\n",
    "    X_train, X_val = X.iloc[train_idx], X.iloc[val_idx]\n",
    "    y_train, y_val = y.iloc[train_idx], y.iloc[val_idx]\n",
    "\n",
    "    #Model\n",
    "    model = xgb.XGBClassifier(\n",
    "        n_estimators=1200,\n",
    "        max_depth=7,\n",
    "        learning_rate=0.03,\n",
    "        subsample=0.8,\n",
    "        colsample_bytree=0.8,\n",
    "        reg_alpha=0.1,\n",
    "        reg_lambda=1,\n",
    "        scale_pos_weight=len(y_train[y_train==0]) / len(y_train[y_train==1]),\n",
    "        eval_metric=\"aucpr\",\n",
    "        early_stopping_rounds=100,\n",
    "        random_state=42,\n",
    "        tree_method=\"hist\"\n",
    "    )\n",
    "\n",
    "    #Train\n",
    "    model.fit(X_train, y_train, eval_set=[(X_val, y_val)], verbose=200)\n",
    "\n",
    "    #Probabilities\n",
    "    y_pred_proba = model.predict_proba(X_val)[:, 1]\n",
    "\n",
    "    #Best F1 threshold\n",
    "    precision, recall, thresholds = precision_recall_curve(y_val, y_pred_proba)\n",
    "    f1_scores = 2 * (precision[:-1] * recall[:-1]) / (precision[:-1] + recall[:-1])\n",
    "    best_idx = np.argmax(f1_scores)\n",
    "    best_threshold = thresholds[best_idx]\n",
    "    print(f\"Best Threshold = {best_threshold:.3f}, F1 = {f1_scores[best_idx]:.3f}\")\n",
    "\n",
    "    #Predictions with custom threshold\n",
    "    y_pred_custom = (y_pred_proba >= best_threshold).astype(int)\n",
    "\n",
    "    #Metrics\n",
    "    auc = roc_auc_score(y_val, y_pred_proba)\n",
    "    auc_scores.append(auc)\n",
    "\n",
    "    report = classification_report(y_val, y_pred_custom, output_dict=True, zero_division=0)\n",
    "    reports.append(report)\n",
    "\n",
    "    print(f\"Fold {fold} AUC: {auc:.4f}\")\n",
    "    print(classification_report(y_val, y_pred_custom, zero_division=0))\n",
    "\n",
    "    fold += 1\n"
   ]
  },
  {
   "cell_type": "code",
   "execution_count": 20,
   "id": "9d9c0f0b",
   "metadata": {},
   "outputs": [
    {
     "data": {
      "text/plain": [
       "<Figure size 1000x600 with 0 Axes>"
      ]
     },
     "metadata": {},
     "output_type": "display_data"
    },
    {
     "data": {
      "image/png": "[encoded data removed]",
      "text/plain": [
       "<Figure size 640x480 with 1 Axes>"
      ]
     },
     "metadata": {},
     "output_type": "display_data"
    }
   ],
   "source": [
    "from xgboost import plot_importance\n",
    "import matplotlib.pyplot as plt\n",
    "\n",
    "plt.figure(figsize=(10,6))\n",
    "plot_importance(model, importance_type='gain', max_num_features=10)\n",
    "plt.title('Top 10 Feature Importance (Gain)')\n",
    "plt.show()"
   ]
  }
 ],
 "metadata": {
  "kernelspec": {
   "display_name": "venv",
   "language": "python",
   "name": "python3"
  },
  "language_info": {
   "codemirror_mode": {
    "name": "ipython",
    "version": 3
   },
   "file_extension": ".py",
   "mimetype": "text/x-python",
   "name": "python",
   "nbconvert_exporter": "python",
   "pygments_lexer": "ipython3",
   "version": "3.13.5"
  }
 },
 "nbformat": 4,
 "nbformat_minor": 5
}
